{
 "cells": [
  {
   "cell_type": "code",
   "execution_count": 1,
   "id": "3d255d0b",
   "metadata": {},
   "outputs": [
    {
     "data": {
      "text/plain": [
       "True"
      ]
     },
     "execution_count": 1,
     "metadata": {},
     "output_type": "execute_result"
    }
   ],
   "source": [
    "%matplotlib widget\n",
    "import time\n",
    "import rospy\n",
    "import select\n",
    "import actionlib\n",
    "import actionlib.msg\n",
    "import assignment_2_2023.msg\n",
    "import matplotlib.pyplot as plt\n",
    "import ipywidgets as widgets\n",
    "from IPython.display import display, clear_output\n",
    "from matplotlib.animation import FuncAnimation\n",
    "from std_srvs.srv import *\n",
    "from nav_msgs.msg import Odometry\n",
    "from assignment_2_2023.msg import Info, PlanningActionFeedback\n",
    "from geometry_msgs.msg import Point, Pose, Twist\n",
    "\n",
    "# Initialize the service node\n",
    "rospy.init_node('action_client')\n",
    "# Creating a ROS publisher to publish on /robot_pos_vel topic the position and velocity of Robot\n",
    "pub = rospy.Publisher('/robot_pos_vel', Info, queue_size=10)\n",
    "# Execution of client request to the server\n",
    "client = actionlib.SimpleActionClient('/reaching_goal', assignment_2_2023.msg.PlanningAction)\n",
    "# Block the execution until communication with server is established\n",
    "client.wait_for_server()"
   ]
  },
  {
   "cell_type": "code",
   "execution_count": 2,
   "id": "839b1022",
   "metadata": {},
   "outputs": [],
   "source": [
    "x_target = []\n",
    "y_target = []\n",
    "\n",
    "def set_goal(b):\n",
    "    global sliders_displayed\n",
    "    \n",
    "    if not sliders_displayed:\n",
    "        clear_output(wait=True)\n",
    "        display(hbox)\n",
    "        sliders_displayed = True\n",
    "        display(x_slider)\n",
    "        display(y_slider)\n",
    "        display(send_button)\n",
    "        \n",
    "    \n",
    "def cancel_goal(b):\n",
    "    global sliders_displayed, goal_canceled, x_target, y_target\n",
    "    \n",
    "    if not goal_canceled:\n",
    "        goal_canceled = True\n",
    "        clear_output(wait=True)\n",
    "        display(hbox)\n",
    "        # Cancel the goal\n",
    "        client.cancel_goal()\n",
    "        x_target.remove(goal.target_pose.pose.position.x)\n",
    "        y_target.remove(goal.target_pose.pose.position.y)\n",
    "        # Print the goal status\n",
    "        goal_status.value = f\"Goal canceled! x:{goal.target_pose.pose.position.x}, y:{goal.target_pose.pose.position.y}\"\n",
    "        display(goal_status)\n",
    "    \n",
    "    \n",
    "def send_goal(b):\n",
    "    global sliders_displayed, goal_canceled, goal, x_target, y_target\n",
    "    \n",
    "    clear_output(wait=True)\n",
    "    display(hbox)\n",
    "    sliders_displayed = False\n",
    "    goal_canceled = False\n",
    "    # Initialize an instance of PlanningGoal() to pass the goal coordinates.\n",
    "    goal = assignment_2_2023.msg.PlanningGoal()\n",
    "    goal.target_pose.pose.position.x = x_slider.value\n",
    "    goal.target_pose.pose.position.y = y_slider.value\n",
    "    # Save the goals coordinates\n",
    "    x_target.append(goal.target_pose.pose.position.x)\n",
    "    y_target.append(goal.target_pose.pose.position.y)\n",
    "    # Send the goal\n",
    "    client.send_goal(goal, None, None, vis.clbk_feedback)\n",
    "    # Print the goal status\n",
    "    goal_status.value = f\"Goal set! x:{goal.target_pose.pose.position.x}, y:{goal.target_pose.pose.position.y}\"\n",
    "    display(goal_status)"
   ]
  },
  {
   "cell_type": "code",
   "execution_count": 3,
   "id": "30f709cc",
   "metadata": {},
   "outputs": [],
   "source": [
    "# Define widgets\n",
    "set_button = widgets.Button(description='Set Goal', button_style='success')\n",
    "cancel_button = widgets.Button(description='Cancel Goal', button_style='danger')\n",
    "send_button = widgets.Button(description='Send Coordinate', button_style='info')\n",
    "goal_status = widgets.Textarea(layout=widgets.Layout(width='auto'))\n",
    "\n",
    "# Attach the callback function to each button\n",
    "set_button.on_click(set_goal)\n",
    "cancel_button.on_click(cancel_goal)\n",
    "send_button.on_click(send_goal)\n",
    "\n",
    "# Create slider widgets for x and y values\n",
    "x_slider = widgets.FloatSlider(min=-8, max=8, description='X:')\n",
    "y_slider = widgets.FloatSlider(min=-8, max=8, description='Y:')\n",
    "\n",
    "# Variable to track if sliders have been displayed\n",
    "sliders_displayed = False\n",
    "\n",
    "# Display the buttons in an HBox\n",
    "hbox = widgets.HBox([set_button, cancel_button])\n"
   ]
  },
  {
   "cell_type": "code",
   "execution_count": 4,
   "id": "ff2fb329",
   "metadata": {},
   "outputs": [
    {
     "data": {
      "application/vnd.jupyter.widget-view+json": {
       "model_id": "166e16ef25da4577b03b1340650c75b9",
       "version_major": 2,
       "version_minor": 0
      },
      "text/plain": [
       "HBox(children=(Button(button_style='success', description='Set Goal', style=ButtonStyle()), Button(button_styl…"
      ]
     },
     "metadata": {},
     "output_type": "display_data"
    },
    {
     "data": {
      "application/vnd.jupyter.widget-view+json": {
       "model_id": "c947592d902d4387b520d1bad43eb9f9",
       "version_major": 2,
       "version_minor": 0
      },
      "text/plain": [
       "FloatSlider(value=4.2, description='X:', max=8.0, min=-8.0)"
      ]
     },
     "metadata": {},
     "output_type": "display_data"
    },
    {
     "data": {
      "application/vnd.jupyter.widget-view+json": {
       "model_id": "eff123f1a44840a88a44f3e39ed65238",
       "version_major": 2,
       "version_minor": 0
      },
      "text/plain": [
       "FloatSlider(value=-2.5, description='Y:', max=8.0, min=-8.0)"
      ]
     },
     "metadata": {},
     "output_type": "display_data"
    },
    {
     "data": {
      "application/vnd.jupyter.widget-view+json": {
       "model_id": "7b01334863f24eb38847a450eec3bced",
       "version_major": 2,
       "version_minor": 0
      },
      "text/plain": [
       "Button(button_style='info', description='Send Coordinate', style=ButtonStyle())"
      ]
     },
     "metadata": {},
     "output_type": "display_data"
    }
   ],
   "source": [
    "display(hbox)"
   ]
  },
  {
   "cell_type": "code",
   "execution_count": 16,
   "id": "86659474",
   "metadata": {},
   "outputs": [
    {
     "name": "stdout",
     "output_type": "stream",
     "text": [
      "Warning: Cannot change to a different GUI toolkit: notebook. Using widget instead.\n"
     ]
    },
    {
     "data": {
      "application/vnd.jupyter.widget-view+json": {
       "model_id": "600b2e376a9244b589733bb958ad0223",
       "version_major": 2,
       "version_minor": 0
      },
      "text/plain": [
       "Canvas(toolbar=Toolbar(toolitems=[('Home', 'Reset original view', 'home', 'home'), ('Back', 'Back to previous …"
      ]
     },
     "metadata": {},
     "output_type": "display_data"
    }
   ],
   "source": [
    "%matplotlib notebook\n",
    "class Visualiser:\n",
    "    def __init__(self):\n",
    "        self.fig, self.ax = plt.subplots()\n",
    "        self.ln, = plt.plot([], [], 'ro', linestyle='None', markersize=5, markeredgecolor='black')\n",
    "        self.target, = plt.plot([], [], marker='o', markersize=10, markeredgecolor='black', linestyle='None')\n",
    "        self.x_data, self.y_data = [] , []\n",
    "\n",
    "    def plot_init(self):\n",
    "        self.ax.set_xlim(10, -10)\n",
    "        self.ax.set_ylim(10, -10)\n",
    "        self.ax.grid(True)\n",
    "        return self.ln,\n",
    "\n",
    "    def odom_callback(self, msg):\n",
    "        self.y_data.append(msg.pose.pose.position.y)\n",
    "        self.x_data.append(msg.pose.pose.position.x)\n",
    "        # Initialize a new message\n",
    "        # The struct of Info() is (x,y,vel_x,vel_z)\n",
    "        new_info = Info()\n",
    "\n",
    "        # Retrieve the position and velocity from geometry_msgs\n",
    "        # and save the values inside the new message\n",
    "        new_info.x = msg.pose.pose.position.x           # x position coordinate\n",
    "        new_info.y = msg.pose.pose.position.y           # y position coordinate\n",
    "        new_info.vel_x = msg.twist.twist.linear.x       # linear velocity along x axis\n",
    "        new_info.vel_z = msg.twist.twist.angular.z      # angular velocity around z axis\n",
    "\n",
    "        # Pubblish new message on /robot_pos_vel topic \n",
    "        pub.publish(new_info)\n",
    "        \n",
    "    def clbk_feedback(self, feedback):\n",
    "        # Callback function that process the feedback from client.\n",
    "        # :param feedback: feedback from the target as \"Target reached!\" or \"Target cancelled!\".\n",
    "        global goal_canceled\n",
    "        if feedback.stat == \"Target reached!\":\n",
    "            # To avoid cancel the goal once the robot has reached it\n",
    "            goal_canceled = True\n",
    "            # Print the goal status\n",
    "            goal_status.value = f\"Goal reached! x:{goal.target_pose.pose.position.x}, y:{goal.target_pose.pose.position.y}\"\n",
    "            display(goal_status)\n",
    "\n",
    "    def update_plot(self, frame):\n",
    "        global x_target, y_target\n",
    "        self.ln.set_data(self.x_data, self.y_data)\n",
    "        self.target.set_data(x_target, y_target)\n",
    "        return self.ln,\n",
    "    \n",
    "    def interface(self):\n",
    "        return\n",
    "        \n",
    "vis = Visualiser()\n",
    "sub_odom = rospy.Subscriber('/odom', Odometry, vis.odom_callback)\n",
    "ani = FuncAnimation(vis.fig, vis.update_plot, init_func=vis.plot_init)\n",
    "plt.show(block=True)"
   ]
  },
  {
   "cell_type": "code",
   "execution_count": null,
   "id": "064968cf",
   "metadata": {},
   "outputs": [],
   "source": []
  },
  {
   "cell_type": "code",
   "execution_count": null,
   "id": "0a392ffc",
   "metadata": {},
   "outputs": [],
   "source": []
  }
 ],
 "metadata": {
  "kernelspec": {
   "display_name": "Python 3 (ipykernel)",
   "language": "python",
   "name": "python3"
  },
  "language_info": {
   "codemirror_mode": {
    "name": "ipython",
    "version": 3
   },
   "file_extension": ".py",
   "mimetype": "text/x-python",
   "name": "python",
   "nbconvert_exporter": "python",
   "pygments_lexer": "ipython3",
   "version": "3.8.5"
  }
 },
 "nbformat": 4,
 "nbformat_minor": 5
}
